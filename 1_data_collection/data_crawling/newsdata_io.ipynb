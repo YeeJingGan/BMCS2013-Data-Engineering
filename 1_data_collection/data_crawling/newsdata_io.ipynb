{
 "cells": [
  {
   "cell_type": "markdown",
   "id": "af16e529-cec4-4653-afa4-89115188255e",
   "metadata": {},
   "source": [
    "# 1.0 Data Collection (Data Crawling)\n",
    "\n",
    "###### Author: Gan Yee Jing\n",
    "###### Last Edited: 25/07/2024\n",
    "\n",
    "## 1.1 Newsdata io\n",
    "### 1.1.1 Importing Necessary Libraries and Instantiate Spark Session"
   ]
  },
  {
   "cell_type": "code",
   "execution_count": 1,
   "id": "450be9bd-b89e-4624-8c91-4ff3221c92ef",
   "metadata": {},
   "outputs": [],
   "source": [
    "from pyspark.sql import SparkSession\n",
    "\n",
    "import sys\n",
    "\n",
    "sys.path.append(r'/home/student/RDS2S3G4_CLO2_B')\n",
    "\n",
    "from data_stores.hdfsClient import HdfsClient\n",
    "from data_stores.redisClient import RedisClient\n",
    "\n",
    "from newsdataapi import NewsDataApiClient\n",
    "import pickle\n",
    "import csv\n",
    "\n",
    "spark = SparkSession.builder.appName('Newsdata io').getOrCreate()"
   ]
  },
  {
   "cell_type": "markdown",
   "id": "05a86d0c-7e90-444f-826a-051b58bd01c3",
   "metadata": {},
   "source": [
    "### 1.1.2 Initialising API Client"
   ]
  },
  {
   "cell_type": "code",
   "execution_count": 2,
   "id": "f60facf4-bbe2-45a7-acee-3cfb2481a5f0",
   "metadata": {},
   "outputs": [],
   "source": [
    "api = NewsDataApiClient(apikey=\"pub_493460de0350ed9f7f24fcd82e80dd6ca03f9\")"
   ]
  },
  {
   "cell_type": "markdown",
   "id": "ff609ef0-e536-4836-8cdd-645cf69cc899",
   "metadata": {},
   "source": [
    "### 1.1.3 Crawling Data"
   ]
  },
  {
   "cell_type": "code",
   "execution_count": 3,
   "id": "766d8f70-a902-49cf-9c03-d328d3b1848d",
   "metadata": {},
   "outputs": [],
   "source": [
    "# Initializing a list to store news \n",
    "news_list = []\n",
    "\n",
    "# Retrieving 50 news\n",
    "for i in range(50):\n",
    "    response = api.news_api(country = 'us', category = 'crime', language = 'en')\n",
    "\n",
    "    # Retreive all news\n",
    "    news = response['results']\n",
    "\n",
    "    news_list.extend(news)\n",
    "\n",
    "print(len(news_list))"
   ]
  },
  {
   "cell_type": "markdown",
   "id": "b138085e-69d3-44a7-8caa-a8559118aa0e",
   "metadata": {},
   "source": [
    "### 1.1.4 Exporting Data to HDFS"
   ]
  },
  {
   "cell_type": "code",
   "execution_count": 4,
   "id": "54b01123-6091-47eb-b858-3f9f76740cf5",
   "metadata": {},
   "outputs": [],
   "source": [
    "# Getting all the keys in the dictionaries \n",
    "all_keys = set()\n",
    "\n",
    "for news in news_list:\n",
    "    all_keys.update(news.keys())\n",
    "\n",
    "print(all_keys)"
   ]
  },
  {
   "cell_type": "code",
   "execution_count": 5,
   "id": "a41b68d1-606b-4f0c-b18d-8384eb9d3fc3",
   "metadata": {},
   "outputs": [],
   "source": [
    "hdfs_client = HdfsClient()\n",
    "redis_client = RedisClient(host = 'localhost', port = 6379, db = 0, start_now = True)\n",
    "\n",
    "df = spark.createDataFrame(news_list)\n",
    "\n",
    "df.collect()\n",
    "\n",
    "hdfs_client.write_file(dataframe = df, file_format = 'csv', destination_path = r'newsdata_io.csv')\n",
    "redis_client.set_key_value('newsdata_io_list', pickle.dumps(df.collect()), seconds = 30* 60)"
   ]
  },
  {
   "cell_type": "code",
   "execution_count": 6,
   "id": "3455d028-6ea5-40b6-8d25-9507e1ca81b9",
   "metadata": {},
   "outputs": [],
   "source": [
    "with open(r'../data/newsdata_io.csv', 'w') as csvfile:\n",
    "    writer = csv.DictWriter(csvfile, fieldnames = list(all_keys))\n",
    "    writer.writeheader()\n",
    "    for news in news_list:\n",
    "        writer.writerow(news)"
   ]
  },
  {
   "cell_type": "code",
   "execution_count": 7,
   "id": "44449147-1497-4ef2-a1a8-2eb6cc425e11",
   "metadata": {},
   "outputs": [],
   "source": [
    "redis_client.stop_service()\n",
    "spark.stop()"
   ]
  }
 ],
 "metadata": {
  "kernelspec": {
   "display_name": "de-venv",
   "language": "python",
   "name": "de-venv"
  },
  "language_info": {
   "codemirror_mode": {
    "name": "ipython",
    "version": 3
   },
   "file_extension": ".py",
   "mimetype": "text/x-python",
   "name": "python",
   "nbconvert_exporter": "python",
   "pygments_lexer": "ipython3",
   "version": "3.10.12"
  }
 },
 "nbformat": 4,
 "nbformat_minor": 5
}
