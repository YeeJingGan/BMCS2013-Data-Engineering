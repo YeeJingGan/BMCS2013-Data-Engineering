{
 "cells": [
  {
   "cell_type": "markdown",
   "id": "43caa87e-0b2d-49a1-b32c-796e01cc3d26",
   "metadata": {},
   "source": [
    "# Neo4J Graph Database\n",
    "\n",
    "Author: Yeap Jie Shen\n",
    "\n",
    "Last Edited: 02/09/2024"
   ]
  },
  {
   "cell_type": "code",
   "execution_count": 1,
   "id": "93512fa6-a535-4fd2-98bf-6fb7bdbb92c9",
   "metadata": {},
   "outputs": [],
   "source": [
    "from pyspark.sql import SparkSession\n",
    "import sys\n",
    "sys.path.append(r'/home/student/RDS2S3G4_CLO2_B')\n",
    "\n",
    "from data_stores.mongodbClient import MongoDBClient\n",
    "from data_stores.redisClient import RedisClient\n",
    "from data_stores.neo4jClient import Neo4j\n",
    "from data_stores.vectorArrayConverter import VectorArrayConverter\n",
    "\n",
    "from pyspark.ml.feature import VectorAssembler\n",
    "from pyspark.sql.functions import udf, col\n",
    "from pyspark.ml.linalg import Vectors, VectorUDT\n",
    "from pyspark.ml.classification import RandomForestClassifier, RandomForestClassificationModel\n",
    "from pyspark.sql.types import FloatType\n",
    "\n",
    "import numpy as np\n",
    "import pickle"
   ]
  },
  {
   "cell_type": "markdown",
   "id": "49305908-7aa4-4a0b-b20e-6016b124d7ce",
   "metadata": {},
   "source": [
    "### Establishing Connection to Data Stores"
   ]
  },
  {
   "cell_type": "code",
   "execution_count": 2,
   "id": "21384efd-1da9-4bef-a8f1-26ddcef49e9e",
   "metadata": {},
   "outputs": [
    {
     "name": "stderr",
     "output_type": "stream",
     "text": [
      "24/09/02 19:44:16 WARN Utils: Your hostname, Gan. resolves to a loopback address: 127.0.1.1; using 10.255.255.254 instead (on interface lo)\n",
      "24/09/02 19:44:16 WARN Utils: Set SPARK_LOCAL_IP if you need to bind to another address\n",
      "Setting default log level to \"WARN\".\n",
      "To adjust logging level use sc.setLogLevel(newLevel). For SparkR, use setLogLevel(newLevel).\n",
      "24/09/02 19:44:17 WARN NativeCodeLoader: Unable to load native-hadoop library for your platform... using builtin-java classes where applicable\n"
     ]
    },
    {
     "name": "stdout",
     "output_type": "stream",
     "text": [
      "Pinged your deployment. You successfully connected to MongoDB!\n"
     ]
    },
    {
     "name": "stderr",
     "output_type": "stream",
     "text": [
      "[sudo] password for student: "
     ]
    },
    {
     "name": "stdout",
     "output_type": "stream",
     "text": [
      "Connection established\n"
     ]
    }
   ],
   "source": [
    "# Instantiating Spark Session\n",
    "spark = SparkSession.builder.appName('Neo4j AuraDB').getOrCreate()\n",
    "\n",
    "# Instantiating connection to MongoDB\n",
    "mongodb_client = MongoDBClient()\n",
    "\n",
    "# Starting Redis service\n",
    "redis_client = RedisClient(host = 'localhost', port = 6379, db = 0, start_now = True)\n",
    "\n",
    "# Instantiating connection to Neo4J\n",
    "neo4j_client = Neo4j()"
   ]
  },
  {
   "cell_type": "markdown",
   "id": "41374550-696d-48de-8ed0-1725085b2acf",
   "metadata": {},
   "source": [
    "## Getting Data from Data Stores"
   ]
  },
  {
   "cell_type": "code",
   "execution_count": 3,
   "id": "5a06fdc8-ee0d-4c10-94c0-adeb8a95d8c8",
   "metadata": {
    "scrolled": true
   },
   "outputs": [
    {
     "name": "stderr",
     "output_type": "stream",
     "text": [
      "                                                                                \r"
     ]
    },
    {
     "name": "stdout",
     "output_type": "stream",
     "text": [
      "+----+--------------+------+--------------------+--------------------+----------------+--------------------+--------------------+--------------------+--------------------+--------------------+--------------------+----------------------+----------------------+----------------------+----------------------+----------------------+-------------------+\n",
      "| key|category_index|author|                 url|            datetime|       publisher|     1tf_idf_content|     2tf_idf_content|     3tf_idf_content|     4tf_idf_content|     5tf_idf_content|     tf_idf_headline|1gram_word2vec_content|2gram_word2vec_content|3gram_word2vec_content|4gram_word2vec_content|5gram_word2vec_content|content_token_count|\n",
      "+----+--------------+------+--------------------+--------------------+----------------+--------------------+--------------------+--------------------+--------------------+--------------------+--------------------+----------------------+----------------------+----------------------+----------------------+----------------------+-------------------+\n",
      "|k306|           0.0|      |https://selangorj...|2024-01-19T17:40:...|Selangor Journal|[0.04373442381620...|[0.05896118655800...|[0.28743544220924...|[0.18135017156600...|[0.19205172359943...|[0.0, 0.0, 0.0, 0...|  [0.12901507318019...|  [-0.1094238758087...|  [0.03327435255050...|  [0.03237085789442...|  [-0.0111660361289...|                 81|\n",
      "|k250|           0.0|      |https://selangorj...|2024-02-09T18:00:...|Selangor Journal|[0.04373442381620...|[0.11792237311601...|[0.22994835674762...|[0.12090010941028...|[0.19205172359943...|[2.77482461929321...|  [0.01862389966845...|  [0.00405461061745...|  [0.03835311159491...|  [0.01981349103152...|  [-0.0063105705194...|                 57|\n",
      "|k230|           0.0|      |https://selangorj...|2024-02-16T15:19:...|Selangor Journal|[0.02915628254413...|[0.02948059327900...|[0.05748708918690...|[0.0, 0.114974178...|[0.19205172359943...|[1.38741230964660...|  [-0.0690551102161...|  [0.07176192104816...|  [0.11413314938545...|  [0.06427443027496...|  [-0.0111155733466...|                 44|\n",
      "|k197|           0.0|      |https://selangorj...|2024-03-07T23:05:...|Selangor Journal|[0.04373442381620...|[0.02948059327900...|[0.05748708918690...|[0.18135017156600...|[0.12803448736667...|[0.0, 0.0, 0.0, 0...|  [0.18140403926372...|  [-0.1206958740949...|  [0.01097418181598...|  [0.00341243715956...|  [-9.2640018556267...|                 60|\n",
      "|k196|           0.0|      |https://selangorj...|2024-03-08T15:08:...|Selangor Journal|[0.08017978072166...|[0.20636415481567...|[0.22994835674762...|[0.24180021882057...|[0.12803448736667...|[1.38741230964660...|  [-0.0018181445775...|  [0.03617687150835...|  [0.06195205450057...|  [0.02868415415287...|  [2.98359664157032...|                 99|\n",
      "|k159|           0.0|      |https://selangorj...|2024-03-28T16:15:...|Selangor Journal|[0.06560163944959...|[0.23584474623203...|[0.28743544220924...|[0.48360043764114...|[0.51213794946670...|[2.77482461929321...|  [0.00101122283376...|  [0.01465180050581...|  [0.02419851906597...|  [0.00137481733690...|  [-7.5805309461429...|                115|\n",
      "| k95|           0.0|      |https://selangorj...|2024-05-10T19:23:...|Selangor Journal|[0.08746884763240...|[0.11792237311601...|[0.34492254257202...|[0.36270034313201...|[0.25606897473335...|[0.0, 0.0, 0.0, 1...|  [0.18485067784786...|  [-0.0873024761676...|  [0.02114074118435...|  [0.00818965770304...|  [-0.0012142710620...|                135|\n",
      "| k28|           0.0|      |https://selangorj...|2024-07-02T15:07:...|Selangor Journal|[0.02915628254413...|[0.11792237311601...|[0.22994835674762...|[0.24180021882057...|[0.12803448736667...|[1.38741230964660...|  [0.01143711898475...|  [-0.1348868608474...|  [0.05297233536839...|  [0.03638057038187...|  [-8.1337738083675...|                 50|\n",
      "|k134|           7.0|      |https://selangorj...|2024-04-12T15:50:...|Selangor Journal|[0.02915628254413...|[0.14740297198295...|[0.34492254257202...|[0.18135017156600...|[0.06401724368333...|[1.38741230964660...|  [-0.0391780361533...|  [-0.0208836048841...|  [0.05023875087499...|  [0.01900918409228...|  [-0.0012679345672...|                 83|\n",
      "|k314|           5.0|      |https://selangorj...|2024-01-17T19:52:...|Selangor Journal|[0.05831256508827...|[0.08844178169965...|[0.28743544220924...|[0.18135017156600...|[0.38410344719886...|[0.0, 0.0, 1.2793...|  [0.18180608749389...|  [-0.0260372087359...|  [1.10699329525232...|  [0.00752180535346...|  [-0.0049860882572...|                 90|\n",
      "|k286|           5.0|      |https://selangorj...|2024-01-23T22:04:...|Selangor Journal|[0.02915628254413...|[0.17688356339931...|[0.11497417837381...|[0.18135017156600...|[0.19205172359943...|[0.0, 0.0, 0.0, 0...|  [0.12210875749588...|  [0.02542497776448...|  [0.03528014197945...|  [0.01490368507802...|  [-0.0016263297293...|                 73|\n",
      "|k248|           5.0|      |https://selangorj...|2024-02-09T20:44:...|Selangor Journal|[0.09475792199373...|[0.17688356339931...|[0.51738381385803...|[0.30225026607513...|[0.19205172359943...|[1.38741230964660...|  [0.26070564985275...|  [-0.0610717795789...|  [0.02522406727075...|  [0.00459467712789...|  [0.00147364439908...|                117|\n",
      "|k232|           5.0|      |https://selangorj...|2024-02-16T13:50:...|Selangor Journal|[0.03644535318017...|[0.02948059327900...|[0.22994835674762...|[0.30225026607513...|[0.32008621096611...|[0.0, 0.0, 0.0, 1...|  [0.18978904187679...|  [-0.1311532557010...|  [-0.0019370624795...|  [0.02296052314341...|  [-0.0130381044000...|                 81|\n",
      "|k221|           5.0|      |https://selangorj...|2024-02-23T14:50:...|Selangor Journal|[0.01457814127206...|[0.14740297198295...|[0.11497417837381...|[0.24180021882057...|[0.44812068343162...|[0.0, 1.891548991...|  [0.11585339158773...|  [-0.0173859857022...|  [0.17839458584785...|  [0.11479057371616...|  [-0.0433365292847...|                 60|\n",
      "|k166|           5.0|      |https://selangorj...|2024-03-24T18:59:...|Selangor Journal|[0.02915628254413...|[0.08844178169965...|[0.05748708918690...|[0.12090010941028...|[0.19205172359943...|[0.0, 1.891548991...|  [0.31667602062225...|  [-0.0828771442174...|  [0.01173133496195...|  [-0.0071248663589...|       [0.0, 0.0, 0.0]|                 37|\n",
      "|k316|           1.0|      |https://selangorj...|2024-01-17T19:29:...|Selangor Journal|[0.04373442381620...|[0.20636415481567...|[0.51738381385803...|[0.42315039038658...|[0.32008621096611...|[0.0, 0.0, 1.2793...|  [0.02812454476952...|  [-0.0026243745815...|  [0.10630509257316...|  [0.03869200125336...|  [-0.0299250315874...|                137|\n",
      "|k257|           1.0|      |https://selangorj...|2024-02-07T16:32:...|Selangor Journal|[0.02915628254413...|[0.29480594396591...|[0.34492254257202...|[0.06045005470514...|[0.32008621096611...|[0.0, 0.0, 0.0, 0...|  [0.22106145322322...|  [-0.0514671355485...|  [-0.0031337428372...|  [-0.0026537631638...|       [0.0, 0.0, 0.0]|                 55|\n",
      "|k212|           1.0|      |https://selangorj...|2024-02-29T18:18:...|Selangor Journal|[0.05102349445223...|[0.23584474623203...|[0.57487088441848...|[0.24180021882057...|[0.38410344719886...|[0.0, 0.0, 0.0, 0...|  [-0.0269744414836...|  [0.02110383473336...|  [0.03241581097245...|  [8.90810391865670...|  [-4.2590510565787...|                118|\n",
      "|k205|           1.0|      |https://selangorj...|2024-03-05T19:12:...|Selangor Journal|[0.02915628254413...|[0.11792237311601...|[0.17246127128601...|[0.24180021882057...|[0.32008621096611...|[0.0, 0.0, 0.0, 1...|  [-0.2645733356475...|  [0.06890784204006...|  [0.06945071369409...|  [0.00466182781383...|  [-0.0019904437940...|                 54|\n",
      "|k192|           1.0|      |https://selangorj...|2024-03-12T17:05:...|Selangor Journal|[0.06560163944959...|[0.08844178169965...|[0.11497417837381...|[0.36270034313201...|[0.25606897473335...|[0.0, 0.0, 0.0, 0...|  [0.13368184864521...|  [-0.0766551122069...|  [0.05665842816233...|  [0.04515306279063...|  [-0.0214293561875...|                111|\n",
      "+----+--------------+------+--------------------+--------------------+----------------+--------------------+--------------------+--------------------+--------------------+--------------------+--------------------+----------------------+----------------------+----------------------+----------------------+----------------------+-------------------+\n",
      "only showing top 20 rows\n",
      "\n"
     ]
    }
   ],
   "source": [
    "# Reading data from Redis if cache, otherwise from MongoDB with id column excluded\n",
    "if redis_client.exists_key('feature_engineered_test_dataset'):\n",
    "    test_list = pickle.loads(redis_client.get_value('feature_engineered_test_dataset'))\n",
    "else:\n",
    "    test_list = list(mongodb_client.read_many('Feature_Engineered_Dataset', 'final_test_set', {'_id': 0}))\n",
    "    redis_client.set_key_value('feature_engineered_test_dataset', pickle.dumps(test_list), seconds = 5 * 60)\n",
    "\n",
    "df_test = (\n",
    "    spark.createDataFrame(test_list)\n",
    "    .select(\n",
    "        'key', 'category_index', \n",
    "        'author', 'url', 'datetime', 'publisher',\n",
    "        '1tf_idf_content', '2tf_idf_content', '3tf_idf_content', '4tf_idf_content', '5tf_idf_content', 'tf_idf_headline',\n",
    "        '1gram_word2vec_content', '2gram_word2vec_content', '3gram_word2vec_content', '4gram_word2vec_content', '5gram_word2vec_content',\n",
    "        'content_token_count')\n",
    ")\n",
    "\n",
    "df_test.show()"
   ]
  },
  {
   "cell_type": "code",
   "execution_count": 4,
   "id": "cbc65c4e-bcd9-43fd-94b6-5ac90d88ac54",
   "metadata": {
    "scrolled": true
   },
   "outputs": [],
   "source": [
    "# Apply the UDF to create tf_idf with sparse vector, and word2vec with dense vector\n",
    "for i in range(1,6):\n",
    "    df_test = (\n",
    "        df_test\n",
    "        .withColumn(f'{i}tf_idf_content', VectorArrayConverter.array_to_vector(df_test[f'{i}tf_idf_content']))\n",
    "        .withColumn(f'{i}gram_word2vec_content', VectorArrayConverter.array_to_vector(df_test[f'{i}gram_word2vec_content']))\n",
    "    )\n",
    "\n",
    "df_test = df_test.withColumn('tf_idf_headline', VectorArrayConverter.array_to_vector(df_test['tf_idf_headline']))"
   ]
  },
  {
   "cell_type": "markdown",
   "id": "86fbd61f-ed34-4c13-aa36-e1b63d756395",
   "metadata": {},
   "source": [
    "## Load Model and Make Prediction"
   ]
  },
  {
   "cell_type": "code",
   "execution_count": 5,
   "id": "86e79240-6941-45b3-a7da-79c8dec65dbf",
   "metadata": {
    "scrolled": true
   },
   "outputs": [
    {
     "name": "stderr",
     "output_type": "stream",
     "text": [
      "                                                                                \r"
     ]
    }
   ],
   "source": [
    "assembler = VectorAssembler(inputCols = ['1tf_idf_content', \n",
    "                                         '2tf_idf_content', \n",
    "                                         '3tf_idf_content', \n",
    "                                         '4tf_idf_content', \n",
    "                                         '5tf_idf_content', \n",
    "                                         'tf_idf_headline',\n",
    "                                         '1gram_word2vec_content', \n",
    "                                         '2gram_word2vec_content', \n",
    "                                         '3gram_word2vec_content', \n",
    "                                         '4gram_word2vec_content', \n",
    "                                         '5gram_word2vec_content',\n",
    "                                         'content_token_count'], outputCol='features')\n",
    "df_test = assembler.transform(df_test)"
   ]
  },
  {
   "cell_type": "code",
   "execution_count": 7,
   "id": "c9fcd1e7-4f68-4991-a7eb-8ffa067a981e",
   "metadata": {
    "scrolled": true
   },
   "outputs": [
    {
     "name": "stderr",
     "output_type": "stream",
     "text": [
      "24/09/02 19:45:30 WARN DAGScheduler: Broadcasting large task binary with size 3.9 MiB\n",
      "24/09/02 19:45:32 WARN DAGScheduler: Broadcasting large task binary with size 3.9 MiB\n",
      "24/09/02 19:45:32 WARN DAGScheduler: Broadcasting large task binary with size 4.0 MiB\n"
     ]
    },
    {
     "name": "stdout",
     "output_type": "stream",
     "text": [
      "+----+--------------+------+--------------------+--------------------+----------------+--------------------+--------------------+--------------------+--------------------+--------------------+--------------------+----------------------+----------------------+----------------------+----------------------+----------------------+-------------------+--------------------+--------------------+--------------------+----------+\n",
      "| key|category_index|author|                 url|            datetime|       publisher|     1tf_idf_content|     2tf_idf_content|     3tf_idf_content|     4tf_idf_content|     5tf_idf_content|     tf_idf_headline|1gram_word2vec_content|2gram_word2vec_content|3gram_word2vec_content|4gram_word2vec_content|5gram_word2vec_content|content_token_count|            features|       rawPrediction|         probability|prediction|\n",
      "+----+--------------+------+--------------------+--------------------+----------------+--------------------+--------------------+--------------------+--------------------+--------------------+--------------------+----------------------+----------------------+----------------------+----------------------+----------------------+-------------------+--------------------+--------------------+--------------------+----------+\n",
      "|k306|           0.0|      |https://selangorj...|2024-01-19T17:40:...|Selangor Journal|[0.04373442381620...|[0.05896118655800...|[0.28743544220924...|[0.18135017156600...|[0.19205172359943...|[0.0,0.0,0.0,0.0,...|  [0.12901507318019...|  [-0.1094238758087...|  [0.03327435255050...|  [0.03237085789442...|  [-0.0111660361289...|                 81|[0.04373442381620...|[4.85,7.133333333...|[0.16166666666666...|       1.0|\n",
      "|k250|           0.0|      |https://selangorj...|2024-02-09T18:00:...|Selangor Journal|[0.04373442381620...|[0.11792237311601...|[0.22994835674762...|[0.12090010941028...|[0.19205172359943...|[2.77482461929321...|  [0.01862389966845...|  [0.00405461061745...|  [0.03835311159491...|  [0.01981349103152...|  [-0.0063105705194...|                 57|[0.04373442381620...|[2.15502645502645...|[0.07183421516754...|       5.0|\n",
      "|k230|           0.0|      |https://selangorj...|2024-02-16T15:19:...|Selangor Journal|[0.02915628254413...|[0.02948059327900...|[0.05748708918690...|[0.0,0.1149741783...|[0.19205172359943...|[1.38741230964660...|  [-0.0690551102161...|  [0.07176192104816...|  [0.11413314938545...|  [0.06427443027496...|  [-0.0111155733466...|                 44|[0.02915628254413...|[5.63125728579734...|[0.18770857619324...|       3.0|\n",
      "|k197|           0.0|      |https://selangorj...|2024-03-07T23:05:...|Selangor Journal|[0.04373442381620...|[0.02948059327900...|[0.05748708918690...|[0.18135017156600...|[0.12803448736667...|[0.0,0.0,0.0,0.0,...|  [0.18140403926372...|  [-0.1206958740949...|  [0.01097418181598...|  [0.00341243715956...|  [-9.2640018556267...|                 60|[0.04373442381620...|[6.50322778099093...|[0.21677425936636...|       0.0|\n",
      "|k196|           0.0|      |https://selangorj...|2024-03-08T15:08:...|Selangor Journal|[0.08017978072166...|[0.20636415481567...|[0.22994835674762...|[0.24180021882057...|[0.12803448736667...|[1.38741230964660...|  [-0.0018181445775...|  [0.03617687150835...|  [0.06195205450057...|  [0.02868415415287...|  [2.98359664157032...|                 99|[0.08017978072166...|[7.0,1.125,4.0,1....|[0.23333333333333...|       5.0|\n",
      "|k159|           0.0|      |https://selangorj...|2024-03-28T16:15:...|Selangor Journal|[0.06560163944959...|[0.23584474623203...|[0.28743544220924...|[0.48360043764114...|[0.51213794946670...|[2.77482461929321...|  [0.00101122283376...|  [0.01465180050581...|  [0.02419851906597...|  [0.00137481733690...|  [-7.5805309461429...|                115|[0.06560163944959...|[5.24973009446693...|[0.17499100314889...|       1.0|\n",
      "| k95|           0.0|      |https://selangorj...|2024-05-10T19:23:...|Selangor Journal|[0.08746884763240...|[0.11792237311601...|[0.34492254257202...|[0.36270034313201...|[0.25606897473335...|[0.0,0.0,0.0,1.54...|  [0.18485067784786...|  [-0.0873024761676...|  [0.02114074118435...|  [0.00818965770304...|  [-0.0012142710620...|                135|[0.08746884763240...|[4.63404255319149...|[0.15446808510638...|       5.0|\n",
      "| k28|           0.0|      |https://selangorj...|2024-07-02T15:07:...|Selangor Journal|[0.02915628254413...|[0.11792237311601...|[0.22994835674762...|[0.24180021882057...|[0.12803448736667...|[1.38741230964660...|  [0.01143711898475...|  [-0.1348868608474...|  [0.05297233536839...|  [0.03638057038187...|  [-8.1337738083675...|                 50|[0.02915628254413...|[1.26695402298850...|[0.04223180076628...|       1.0|\n",
      "|k134|           7.0|      |https://selangorj...|2024-04-12T15:50:...|Selangor Journal|[0.02915628254413...|[0.14740297198295...|[0.34492254257202...|[0.18135017156600...|[0.06401724368333...|[1.38741230964660...|  [-0.0391780361533...|  [-0.0208836048841...|  [0.05023875087499...|  [0.01900918409228...|  [-0.0012679345672...|                 83|[0.02915628254413...|[1.0,5.0,6.090909...|[0.03333333333333...|       5.0|\n",
      "|k314|           5.0|      |https://selangorj...|2024-01-17T19:52:...|Selangor Journal|[0.05831256508827...|[0.08844178169965...|[0.28743544220924...|[0.18135017156600...|[0.38410344719886...|[0.0,0.0,1.279370...|  [0.18180608749389...|  [-0.0260372087359...|  [1.10699329525232...|  [0.00752180535346...|  [-0.0049860882572...|                 90|[0.05831256508827...|[7.12243132165260...|[0.23741437738842...|       0.0|\n",
      "|k286|           5.0|      |https://selangorj...|2024-01-23T22:04:...|Selangor Journal|[0.02915628254413...|[0.17688356339931...|[0.11497417837381...|[0.18135017156600...|[0.19205172359943...|[0.0,0.0,0.0,0.0,...|  [0.12210875749588...|  [0.02542497776448...|  [0.03528014197945...|  [0.01490368507802...|  [-0.0016263297293...|                 73|[0.02915628254413...|[3.27930402930402...|[0.10931013431013...|       5.0|\n",
      "|k248|           5.0|      |https://selangorj...|2024-02-09T20:44:...|Selangor Journal|[0.09475792199373...|[0.17688356339931...|[0.51738381385803...|[0.30225026607513...|[0.19205172359943...|[1.38741230964660...|  [0.26070564985275...|  [-0.0610717795789...|  [0.02522406727075...|  [0.00459467712789...|  [0.00147364439908...|                117|[0.09475792199373...|[4.34069119286510...|[0.14468970642883...|       2.0|\n",
      "|k232|           5.0|      |https://selangorj...|2024-02-16T13:50:...|Selangor Journal|[0.03644535318017...|[0.02948059327900...|[0.22994835674762...|[0.30225026607513...|[0.32008621096611...|[0.0,0.0,0.0,1.54...|  [0.18978904187679...|  [-0.1311532557010...|  [-0.0019370624795...|  [0.02296052314341...|  [-0.0130381044000...|                 81|[0.03644535318017...|[2.0,5.9333333333...|[0.06666666666666...|       4.0|\n",
      "|k221|           5.0|      |https://selangorj...|2024-02-23T14:50:...|Selangor Journal|[0.01457814127206...|[0.14740297198295...|[0.11497417837381...|[0.24180021882057...|[0.44812068343162...|[0.0,1.8915489912...|  [0.11585339158773...|  [-0.0173859857022...|  [0.17839458584785...|  [0.11479057371616...|  [-0.0433365292847...|                 60|[0.01457814127206...|[3.17721416416822...|[0.10590713880560...|       3.0|\n",
      "|k166|           5.0|      |https://selangorj...|2024-03-24T18:59:...|Selangor Journal|[0.02915628254413...|[0.08844178169965...|[0.05748708918690...|[0.12090010941028...|[0.19205172359943...|[0.0,1.8915489912...|  [0.31667602062225...|  [-0.0828771442174...|  [0.01173133496195...|  [-0.0071248663589...|         [0.0,0.0,0.0]|                 37|[0.02915628254413...|[3.65694915254237...|[0.12189830508474...|       3.0|\n",
      "|k316|           1.0|      |https://selangorj...|2024-01-17T19:29:...|Selangor Journal|[0.04373442381620...|[0.20636415481567...|[0.51738381385803...|[0.42315039038658...|[0.32008621096611...|[0.0,0.0,1.279370...|  [0.02812454476952...|  [-0.0026243745815...|  [0.10630509257316...|  [0.03869200125336...|  [-0.0299250315874...|                137|[0.04373442381620...|[3.5,15.0,1.0,1.0...|[0.11666666666666...|       1.0|\n",
      "|k257|           1.0|      |https://selangorj...|2024-02-07T16:32:...|Selangor Journal|[0.02915628254413...|[0.29480594396591...|[0.34492254257202...|[0.06045005470514...|[0.32008621096611...|[0.0,0.0,0.0,0.0,...|  [0.22106145322322...|  [-0.0514671355485...|  [-0.0031337428372...|  [-0.0026537631638...|         [0.0,0.0,0.0]|                 55|[0.02915628254413...|[0.0,9.0,6.0,6.95...|[0.0,0.3,0.2,0.23...|       1.0|\n",
      "|k212|           1.0|      |https://selangorj...|2024-02-29T18:18:...|Selangor Journal|[0.05102349445223...|[0.23584474623203...|[0.57487088441848...|[0.24180021882057...|[0.38410344719886...|[0.0,0.0,0.0,0.0,...|  [-0.0269744414836...|  [0.02110383473336...|  [0.03241581097245...|  [8.90810391865670...|  [-4.2590510565787...|                118|[0.05102349445223...|[4.27272727272727...|[0.14242424242424...|       1.0|\n",
      "|k205|           1.0|      |https://selangorj...|2024-03-05T19:12:...|Selangor Journal|[0.02915628254413...|[0.11792237311601...|[0.17246127128601...|[0.24180021882057...|[0.32008621096611...|[0.0,0.0,0.0,1.54...|  [-0.2645733356475...|  [0.06890784204006...|  [0.06945071369409...|  [0.00466182781383...|  [-0.0019904437940...|                 54|[0.02915628254413...|[4.17798535917773...|[0.13926617863925...|       1.0|\n",
      "|k192|           1.0|      |https://selangorj...|2024-03-12T17:05:...|Selangor Journal|[0.06560163944959...|[0.08844178169965...|[0.11497417837381...|[0.36270034313201...|[0.25606897473335...|[0.0,0.0,0.0,0.0,...|  [0.13368184864521...|  [-0.0766551122069...|  [0.05665842816233...|  [0.04515306279063...|  [-0.0214293561875...|                111|[0.06560163944959...|[2.76828168362627...|[0.09227605612087...|       1.0|\n",
      "+----+--------------+------+--------------------+--------------------+----------------+--------------------+--------------------+--------------------+--------------------+--------------------+--------------------+----------------------+----------------------+----------------------+----------------------+----------------------+-------------------+--------------------+--------------------+--------------------+----------+\n",
      "only showing top 20 rows\n",
      "\n"
     ]
    }
   ],
   "source": [
    "rf_model = RandomForestClassificationModel.load(r'../model/best_model')\n",
    "\n",
    "df_predictions = rf_model.transform(df_test)\n",
    "\n",
    "distinct_predictions = [\n",
    "    row.asDict()['prediction'] for row in \n",
    "    df_predictions.select('prediction').distinct().collect()\n",
    "]\n",
    "\n",
    "df_predictions.show()"
   ]
  },
  {
   "cell_type": "markdown",
   "id": "ddfdf25c-08af-4d6c-9c71-f00debc27db0",
   "metadata": {},
   "source": [
    "## Uploading Predictions to Neo4j\n",
    "\n",
    "### Clearing All Data in Neo4j"
   ]
  },
  {
   "cell_type": "code",
   "execution_count": 10,
   "id": "b2b0be73-90e0-402a-803f-2e559f63b712",
   "metadata": {},
   "outputs": [],
   "source": [
    "\"\"\"\n",
    "    Delete all nodes in Neo4j\n",
    "\"\"\"\n",
    "\n",
    "records, summary, keys = neo4j_client.execute_query(\n",
    "    \"\"\"\n",
    "        MATCH (n)\n",
    "        DETACH DELETE n\n",
    "    \"\"\",\n",
    "    database = '_neo4j',\n",
    ")"
   ]
  },
  {
   "cell_type": "markdown",
   "id": "ca602226-5781-4d9d-8c63-2388617dd722",
   "metadata": {},
   "source": [
    "### Inserting All Publishers into Neo4j"
   ]
  },
  {
   "cell_type": "code",
   "execution_count": 11,
   "id": "ee77e3ba-99d7-40ca-9634-c0aed60f5ab8",
   "metadata": {},
   "outputs": [],
   "source": [
    "\"\"\"\n",
    "    Insert all publishers into Neo4j\n",
    "\"\"\"\n",
    "\n",
    "publisher_name_list = [\n",
    "    'Free Malaysia Today',\n",
    "    'NST',\n",
    "    'Selangor Journal',\n",
    "    'The Borneo Post',\n",
    "    'The Star',\n",
    "    'Newsdata io'\n",
    "]\n",
    "\n",
    "records, summary, keys = neo4j_client.execute_query(\n",
    "    \"\"\"\n",
    "        UNWIND $publisher_name_list AS publisher_name\n",
    "        CREATE (:Publisher {publisher_name: publisher_name})\n",
    "    \"\"\",\n",
    "    database = '_neo4j',\n",
    "    publisher_name_list = publisher_name_list \n",
    ")\n",
    "\n",
    "\"\"\"\n",
    "    Insert all publishers into Neo4j\n",
    "\"\"\"\n",
    "\n",
    "news_category_list = [\n",
    "    {'name': 'drug offences', 'index': 0.0},\n",
    "    {'name': 'murder and homicide','index': 1.0},\n",
    "    {'name': 'scam', 'index': 2.0},\n",
    "    {'name': 'physical hurt','index': 3.0},\n",
    "    {'name': 'robbery or theft','index': 4.0},\n",
    "    {'name': 'money laundering','index': 5.0},\n",
    "    {'name': 'others','index': 6.0},\n",
    "    {'name': 'firearm or terrorism','index': 7.0},\n",
    "    {'name': 'sexual harassment or sexual offences or rape','index': 8.0},\n",
    "]\n",
    "\n",
    "records, summary, keys = neo4j_client.execute_query(\n",
    "    \"\"\"\n",
    "        UNWIND $news_category_list AS category\n",
    "        CREATE (:Category {category_name: category.name, category_index: category.index})\n",
    "    \"\"\",\n",
    "    database = '_neo4j',\n",
    "    news_category_list = news_category_list \n",
    ")"
   ]
  },
  {
   "cell_type": "markdown",
   "id": "2c1d8a94-3d05-48c8-a4c1-3eec16ac2199",
   "metadata": {},
   "source": [
    "### Uploading News Nodes and Relationships\n",
    "\n",
    "__Note__: For reducing computational workload purposes, IS_SIMILAR relationship only limited to those with the same 'Predicted Category' only"
   ]
  },
  {
   "cell_type": "code",
   "execution_count": 12,
   "id": "fe008dd1-420e-4c49-8e72-36489c3c1222",
   "metadata": {},
   "outputs": [],
   "source": [
    "# UDF to calculate cosine similarity\n",
    "@udf(returnType = FloatType())\n",
    "def compute_cosine_similarity(vec1, vec2):\n",
    "    dot_product = np.dot(vec1.toArray(), vec2.toArray())\n",
    "    norm1 = np.linalg.norm(vec1.toArray())\n",
    "    norm2 = np.linalg.norm(vec2.toArray())\n",
    "    return float(dot_product / (norm1 * norm2))"
   ]
  },
  {
   "cell_type": "code",
   "execution_count": 13,
   "id": "c06be064-5e24-47dd-a75d-4a6e2f0d6b4c",
   "metadata": {},
   "outputs": [
    {
     "name": "stdout",
     "output_type": "stream",
     "text": [
      "Fetching news Node of category index (0.0) tooked: 86 ms\n"
     ]
    },
    {
     "name": "stderr",
     "output_type": "stream",
     "text": [
      "24/09/02 19:46:09 WARN DAGScheduler: Broadcasting large task binary with size 3.9 MiB\n",
      "24/09/02 19:46:10 WARN DAGScheduler: Broadcasting large task binary with size 3.9 MiB\n",
      "24/09/02 19:46:11 WARN DAGScheduler: Broadcasting large task binary with size 3.9 MiB\n",
      "24/09/02 19:46:12 WARN DAGScheduler: Broadcasting large task binary with size 3.9 MiB\n",
      "24/09/02 19:46:12 WARN DAGScheduler: Broadcasting large task binary with size 3.9 MiB\n"
     ]
    },
    {
     "name": "stdout",
     "output_type": "stream",
     "text": [
      "Uploading new news Node tooked: 176 ms\n",
      "Uploading new (IS_SIMILAR) relationships tooked: 163 ms\n",
      "\n",
      "Fetching news Node of category index (1.0) tooked: 1 ms\n"
     ]
    },
    {
     "name": "stderr",
     "output_type": "stream",
     "text": [
      "24/09/02 19:46:16 WARN DAGScheduler: Broadcasting large task binary with size 3.9 MiB\n",
      "24/09/02 19:46:18 WARN DAGScheduler: Broadcasting large task binary with size 3.9 MiB\n",
      "24/09/02 19:46:18 WARN DAGScheduler: Broadcasting large task binary with size 3.9 MiB\n",
      "24/09/02 19:46:19 WARN DAGScheduler: Broadcasting large task binary with size 3.9 MiB\n",
      "24/09/02 19:46:19 WARN DAGScheduler: Broadcasting large task binary with size 3.9 MiB\n",
      "                                                                                \r"
     ]
    },
    {
     "name": "stdout",
     "output_type": "stream",
     "text": [
      "Uploading new news Node tooked: 374 ms\n",
      "Uploading new (IS_SIMILAR) relationships tooked: 4411 ms\n",
      "\n",
      "Fetching news Node of category index (4.0) tooked: 308 ms\n"
     ]
    },
    {
     "name": "stderr",
     "output_type": "stream",
     "text": [
      "24/09/02 19:46:31 WARN DAGScheduler: Broadcasting large task binary with size 3.9 MiB\n",
      "24/09/02 19:46:32 WARN DAGScheduler: Broadcasting large task binary with size 3.9 MiB\n",
      "24/09/02 19:46:33 WARN DAGScheduler: Broadcasting large task binary with size 3.9 MiB\n",
      "24/09/02 19:46:34 WARN DAGScheduler: Broadcasting large task binary with size 3.9 MiB\n",
      "24/09/02 19:46:34 WARN DAGScheduler: Broadcasting large task binary with size 3.9 MiB\n"
     ]
    },
    {
     "name": "stdout",
     "output_type": "stream",
     "text": [
      "Uploading new news Node tooked: 422 ms\n",
      "Uploading new (IS_SIMILAR) relationships tooked: 215 ms\n",
      "\n",
      "Fetching news Node of category index (3.0) tooked: 3 ms\n"
     ]
    },
    {
     "name": "stderr",
     "output_type": "stream",
     "text": [
      "24/09/02 19:46:38 WARN DAGScheduler: Broadcasting large task binary with size 3.9 MiB\n",
      "24/09/02 19:46:39 WARN DAGScheduler: Broadcasting large task binary with size 3.9 MiB\n",
      "24/09/02 19:46:39 WARN DAGScheduler: Broadcasting large task binary with size 3.9 MiB\n",
      "24/09/02 19:46:40 WARN DAGScheduler: Broadcasting large task binary with size 3.9 MiB\n",
      "24/09/02 19:46:40 WARN DAGScheduler: Broadcasting large task binary with size 3.9 MiB\n"
     ]
    },
    {
     "name": "stdout",
     "output_type": "stream",
     "text": [
      "Uploading new news Node tooked: 94 ms\n",
      "Uploading new (IS_SIMILAR) relationships tooked: 253 ms\n",
      "\n",
      "Fetching news Node of category index (2.0) tooked: 2 ms\n"
     ]
    },
    {
     "name": "stderr",
     "output_type": "stream",
     "text": [
      "24/09/02 19:46:44 WARN DAGScheduler: Broadcasting large task binary with size 3.9 MiB\n",
      "24/09/02 19:46:45 WARN DAGScheduler: Broadcasting large task binary with size 3.9 MiB\n",
      "24/09/02 19:46:45 WARN DAGScheduler: Broadcasting large task binary with size 3.9 MiB\n",
      "24/09/02 19:46:46 WARN DAGScheduler: Broadcasting large task binary with size 3.9 MiB\n",
      "24/09/02 19:46:47 WARN DAGScheduler: Broadcasting large task binary with size 3.9 MiB\n"
     ]
    },
    {
     "name": "stdout",
     "output_type": "stream",
     "text": [
      "Uploading new news Node tooked: 49 ms\n",
      "Uploading new (IS_SIMILAR) relationships tooked: 337 ms\n",
      "\n",
      "Fetching news Node of category index (6.0) tooked: 3 ms\n"
     ]
    },
    {
     "name": "stderr",
     "output_type": "stream",
     "text": [
      "24/09/02 19:46:50 WARN DAGScheduler: Broadcasting large task binary with size 3.9 MiB\n",
      "24/09/02 19:46:51 WARN DAGScheduler: Broadcasting large task binary with size 3.9 MiB\n",
      "24/09/02 19:46:51 WARN DAGScheduler: Broadcasting large task binary with size 3.9 MiB\n",
      "24/09/02 19:46:52 WARN DAGScheduler: Broadcasting large task binary with size 3.9 MiB\n",
      "24/09/02 19:46:53 WARN DAGScheduler: Broadcasting large task binary with size 3.9 MiB\n"
     ]
    },
    {
     "name": "stdout",
     "output_type": "stream",
     "text": [
      "Uploading new news Node tooked: 23 ms\n",
      "Uploading new (IS_SIMILAR) relationships tooked: 86 ms\n",
      "\n",
      "Fetching news Node of category index (5.0) tooked: 2 ms\n"
     ]
    },
    {
     "name": "stderr",
     "output_type": "stream",
     "text": [
      "24/09/02 19:46:56 WARN DAGScheduler: Broadcasting large task binary with size 3.9 MiB\n",
      "24/09/02 19:46:57 WARN DAGScheduler: Broadcasting large task binary with size 3.9 MiB\n",
      "24/09/02 19:46:57 WARN DAGScheduler: Broadcasting large task binary with size 3.9 MiB\n",
      "24/09/02 19:46:58 WARN DAGScheduler: Broadcasting large task binary with size 3.9 MiB\n",
      "24/09/02 19:46:58 WARN DAGScheduler: Broadcasting large task binary with size 3.9 MiB\n"
     ]
    },
    {
     "name": "stdout",
     "output_type": "stream",
     "text": [
      "Uploading new news Node tooked: 62 ms\n",
      "Uploading new (IS_SIMILAR) relationships tooked: 302 ms\n",
      "\n",
      "Fetching news Node of category index (8.0) tooked: 2 ms\n"
     ]
    },
    {
     "name": "stderr",
     "output_type": "stream",
     "text": [
      "24/09/02 19:47:03 WARN DAGScheduler: Broadcasting large task binary with size 3.9 MiB\n",
      "24/09/02 19:47:04 WARN DAGScheduler: Broadcasting large task binary with size 3.9 MiB\n",
      "24/09/02 19:47:04 WARN DAGScheduler: Broadcasting large task binary with size 3.9 MiB\n",
      "24/09/02 19:47:05 WARN DAGScheduler: Broadcasting large task binary with size 3.9 MiB\n",
      "24/09/02 19:47:05 WARN DAGScheduler: Broadcasting large task binary with size 3.9 MiB\n"
     ]
    },
    {
     "name": "stdout",
     "output_type": "stream",
     "text": [
      "Uploading new news Node tooked: 20 ms\n",
      "Uploading new (IS_SIMILAR) relationships tooked: 39 ms\n",
      "\n",
      "Fetching news Node of category index (7.0) tooked: 5 ms\n"
     ]
    },
    {
     "name": "stderr",
     "output_type": "stream",
     "text": [
      "24/09/02 19:47:08 WARN DAGScheduler: Broadcasting large task binary with size 3.9 MiB\n",
      "24/09/02 19:47:09 WARN DAGScheduler: Broadcasting large task binary with size 3.9 MiB\n",
      "24/09/02 19:47:09 WARN DAGScheduler: Broadcasting large task binary with size 3.9 MiB\n",
      "24/09/02 19:47:10 WARN DAGScheduler: Broadcasting large task binary with size 3.9 MiB\n",
      "24/09/02 19:47:11 WARN DAGScheduler: Broadcasting large task binary with size 3.9 MiB\n"
     ]
    },
    {
     "name": "stdout",
     "output_type": "stream",
     "text": [
      "Uploading new news Node tooked: 31 ms\n",
      "Uploading new (IS_SIMILAR) relationships tooked: 66 ms\n",
      "\n"
     ]
    }
   ],
   "source": [
    "for category_index in distinct_predictions:\n",
    "    # Getting predictions for that particular category\n",
    "    df_predicted_category = (\n",
    "        df_predictions\n",
    "        .withColumnRenamed('1tf_idf_content', 'tf_idf_content1')\n",
    "        .select('key', 'author', 'url', 'datetime', 'publisher', 'prediction', 'tf_idf_content1')\n",
    "        .filter(col('prediction') == category_index)\n",
    "    )\n",
    "\n",
    "    # Fetching news nodes from Neo4j\n",
    "    records, summary, keys = neo4j_client.execute_query(\n",
    "        \"\"\"\n",
    "            MATCH (n:News) --> (:Category {category_index: $category_index})\n",
    "            MATCH (n)-[:PUBLISHED_BY]->(p:Publisher)\n",
    "            RETURN n, p\n",
    "        \"\"\",\n",
    "    database = '_neo4j',\n",
    "    category_index = category_index\n",
    "    )\n",
    "\n",
    "    print(f'Fetching news Node of category index ({category_index}) tooked: {summary.result_available_after} ms')\n",
    "    \n",
    "    # Formatting news data fetched from Neo4j\n",
    "    raw_results = [(record.data()['n'], record.data()['p']) for record in records]\n",
    "    for result in raw_results:\n",
    "        result[0]['tf_idf_content1'] = pickle.loads(result[0]['tf_idf_content1'])\n",
    "        result[0]['publisher'] = result[1]['publisher_name']\n",
    "        result[0]['prediction'] = category_index\n",
    "    results = [result[0] for result in raw_results]\n",
    "\n",
    "    # Combining news data from Neo4j with local data\n",
    "    df_result = spark.createDataFrame(results, schema = df_predicted_category.schema)\n",
    "    df_union = df_predicted_category.union(df_result).dropDuplicates(subset=['key'])\n",
    "\n",
    "    # Finding similar articles\n",
    "    # Filtering out those have cosine similarity larger than 0.8\n",
    "    df_similar = (\n",
    "        df_union\n",
    "        .alias('df1')\n",
    "        .join(df_union.alias('df2'), col('df1.key') < col('df2.key'))\n",
    "        .withColumn('similarity',\n",
    "                     compute_cosine_similarity('df1.tf_idf_content1', 'df2.tf_idf_content1'))\n",
    "    )\n",
    "    df_similar_filtered = (\n",
    "        df_similar\n",
    "        .select(col('df1.key').alias('key1'), col('df2.key').alias('key2'), 'similarity')\n",
    "        .filter(col('similarity') >= 0.85)\n",
    "    )\n",
    "\n",
    "    # Converting new News to list to insert into Neo4j\n",
    "    news_records = [news.asDict() for news in df_union.collect()]\n",
    "    for news in news_records:\n",
    "        news['tf_idf_content1'] = pickle.dumps(news['tf_idf_content1'])\n",
    "\n",
    "    # Converting new (IS_SIMILAR) relationships to insert into Neo4j\n",
    "    similarity_list = [similarity.asDict() for similarity in df_similar_filtered.collect()]\n",
    "\n",
    "    # Uploading new News Node to Neo4j\n",
    "    records, summary, keys = neo4j_client.execute_query(\n",
    "        \"\"\"\n",
    "            UNWIND $news_records AS news_record\n",
    "            MERGE (publisher: Publisher {publisher_name: news_record.publisher})\n",
    "            MERGE (category: Category {category_index: news_record.prediction})\n",
    "            MERGE (news_node:News {\n",
    "            key: news_record.key, url: news_record.url, author: news_record.author,\n",
    "            datetime: news_record.datetime, tf_idf_content1: news_record.tf_idf_content1})\n",
    "            MERGE (news_node) - [:IS_CATEGORY] -> (category)\n",
    "            MERGE (news_node) - [:PUBLISHED_BY] -> (publisher)\n",
    "        \"\"\",\n",
    "        database = '_neo4j',\n",
    "        news_records = news_records\n",
    "    )\n",
    "    print(f'Uploading new news Node tooked: {summary.result_available_after} ms')\n",
    "    \n",
    "    # Uploading new relationships to Neo4j\n",
    "    records, summary, keys = neo4j_client.execute_query(\n",
    "        \"\"\"\n",
    "            UNWIND $similarity_list AS similarity\n",
    "            MATCH (news1:News {key: similarity.key1})\n",
    "            MATCH (news2:News {key: similarity.key2})\n",
    "            MERGE (news1) -[:IS_SIMILAR {similarity: similarity.similarity}]-> (news2)\n",
    "            MERGE (news2) -[:IS_SIMILAR {similarity: similarity.similarity}]-> (news1)\n",
    "        \"\"\",\n",
    "        database = '_neo4j',\n",
    "        similarity_list = similarity_list\n",
    "    )\n",
    "    \n",
    "    print(f'Uploading new (IS_SIMILAR) relationships tooked: {summary.result_available_after} ms')\n",
    "    print()"
   ]
  },
  {
   "cell_type": "markdown",
   "id": "bdaf3f12-2324-4be5-a054-ec74c9f36070",
   "metadata": {},
   "source": [
    "## Querying from Neo4j"
   ]
  },
  {
   "cell_type": "code",
   "execution_count": 14,
   "id": "69ae380f-f22b-4211-b2eb-c788e37d7cce",
   "metadata": {},
   "outputs": [
    {
     "name": "stdout",
     "output_type": "stream",
     "text": [
      "Similar news (Fetched in 84 ms)\n",
      " Key: k212       Publisher: Selangor Journal     URL: https://selangorjournal.my/2024/02/ex-religious-teacher-gets-33-years-jail-canin Cosine Similarity: 0.9014\n",
      " Key: k471       Publisher: Selangor Journal     URL: https://selangorjournal.my/2023/11/couples-death-sentence-commuted-to-30-years-j Cosine Similarity: 0.9044\n",
      " Key: k5471      Publisher: NST                  URL: MISSING URL Cosine Similarity: 0.9052\n",
      " Key: k587       Publisher: Selangor Journal     URL: https://selangorjournal.my/2023/10/two-minors-among-11-individuals-charged-with- Cosine Similarity: 0.9054\n",
      " Key: k725       Publisher: Selangor Journal     URL: https://selangorjournal.my/2023/07/man-charged-with-murdering-girlfriends-son/ Cosine Similarity: 0.9072\n",
      " Key: k3875      Publisher: The Borneo Post      URL: https://www.theborneopost.com/2020/09/02/cryptocurrency-miners-found-stealing-rm Cosine Similarity: 0.9100\n",
      " Key: k327       Publisher: Selangor Journal     URL: https://selangorjournal.my/2024/01/two-teen-brothers-held-for-vandalism-stealing Cosine Similarity: 0.9114\n",
      " Key: k4446      Publisher: The Borneo Post      URL: https://www.theborneopost.com/2019/05/24/cid-probing-alleged-rape-of-pregnant-te Cosine Similarity: 0.9132\n",
      " Key: k1231      Publisher: Selangor Journal     URL: https://selangorjournal.my/2022/11/vida-pleads-not-guilty-to-uploading-offensive Cosine Similarity: 0.9148\n",
      " Key: k2325      Publisher: The Borneo Post      URL: https://www.theborneopost.com/2024/02/22/sibu-cops-nab-34-year-old-man-for-suspe Cosine Similarity: 0.9162\n",
      " Key: k1277      Publisher: Selangor Journal     URL: https://selangorjournal.my/2022/10/paralysed-mechanic-escapes-gallows-for-drug-t Cosine Similarity: 0.9339\n",
      " Key: k968       Publisher: Selangor Journal     URL: https://selangorjournal.my/2023/02/jana-wibawa-project-adam-radlan-slapped-with- Cosine Similarity: 0.9356\n",
      " Key: k1134      Publisher: Selangor Journal     URL: https://selangorjournal.my/2022/12/man-jailed-three-years-for-robbing-pensioner- Cosine Similarity: 0.9382\n",
      " Key: k1609      Publisher: Selangor Journal     URL: https://selangorjournal.my/2022/05/cambodian-ordered-to-enter-defence-for-murder Cosine Similarity: 0.9403\n",
      " Key: k3870      Publisher: The Borneo Post      URL: https://www.theborneopost.com/2020/09/05/man-gets-6-years-3-strokes-for-possessi Cosine Similarity: 0.9483\n",
      " Key: k951       Publisher: Selangor Journal     URL: https://selangorjournal.my/2023/03/appeals-court-upholds-death-sentence-on-babys Cosine Similarity: 0.9512\n",
      " Key: k1417      Publisher: Selangor Journal     URL: https://selangorjournal.my/2022/08/court-sets-oct-27-for-mention-of-cosmetics-en Cosine Similarity: 0.9519\n",
      "Total similar articles:17\n"
     ]
    }
   ],
   "source": [
    "# Finding news that is similar to news with key'??' where the similarity is greater than or equal to 0.9\n",
    "target_key = 'k101'\n",
    "\n",
    "records, summary, keys = neo4j_client.execute_query(\n",
    "    \"\"\"\n",
    "        MATCH (n:News) -[s:IS_SIMILAR]-> (:News {key: $key})\n",
    "        MATCH (n) -[:PUBLISHED_BY]-> (p: Publisher)\n",
    "        WHERE s.similarity >= 0.9\n",
    "        RETURN n, s, p\n",
    "        ORDER BY s.similarity\n",
    "    \"\"\",\n",
    "    database = '_neo4j',\n",
    "    key = target_key\n",
    ")\n",
    "\n",
    "print(f'Similar news (Fetched in {summary.result_available_after} ms)')\n",
    "for record in records:\n",
    "    print(f\" Key: {record['n']['key']:10s} Publisher: {record['p']['publisher_name']:20s} URL: {record['n']['url'] if record['n']['url'] else 'MISSING URL':.80s} Cosine Similarity: {record['s']['similarity']:.4f}\")\n",
    "\n",
    "print(f'Total similar articles:{len(records)}')"
   ]
  },
  {
   "cell_type": "code",
   "execution_count": 15,
   "id": "6146680d-084b-470a-baa9-eeaaf15b7a1c",
   "metadata": {},
   "outputs": [
    {
     "name": "stdout",
     "output_type": "stream",
     "text": [
      "Number of news published by Category (Fetched in 72 ms)\n",
      "Publisher: Free Malaysia Today  Category: murder and homicide                                Count: 2\n",
      "Publisher: NST                  Category: drug offences                                      Count: 1\n",
      "Publisher: NST                  Category: robbery or theft                                   Count: 1\n",
      "Publisher: NST                  Category: physical hurt                                      Count: 2\n",
      "Publisher: NST                  Category: scam                                               Count: 2\n",
      "Publisher: NST                  Category: others                                             Count: 3\n",
      "Publisher: NST                  Category: firearm or terrorism                               Count: 4\n",
      "Publisher: NST                  Category: murder and homicide                                Count: 19\n",
      "Publisher: Newsdata io          Category: murder and homicide                                Count: 1\n",
      "Publisher: Selangor Journal     Category: firearm or terrorism                               Count: 4\n",
      "Publisher: Selangor Journal     Category: sexual harassment or sexual offences or rape       Count: 5\n",
      "Publisher: Selangor Journal     Category: robbery or theft                                   Count: 8\n",
      "Publisher: Selangor Journal     Category: others                                             Count: 9\n",
      "Publisher: Selangor Journal     Category: physical hurt                                      Count: 32\n",
      "Publisher: Selangor Journal     Category: scam                                               Count: 32\n",
      "Publisher: Selangor Journal     Category: drug offences                                      Count: 37\n",
      "Publisher: Selangor Journal     Category: money laundering                                   Count: 42\n",
      "Publisher: Selangor Journal     Category: murder and homicide                                Count: 256\n",
      "Publisher: The Borneo Post      Category: others                                             Count: 4\n",
      "Publisher: The Borneo Post      Category: robbery or theft                                   Count: 6\n",
      "Publisher: The Borneo Post      Category: sexual harassment or sexual offences or rape       Count: 6\n",
      "Publisher: The Borneo Post      Category: firearm or terrorism                               Count: 8\n",
      "Publisher: The Borneo Post      Category: scam                                               Count: 19\n",
      "Publisher: The Borneo Post      Category: physical hurt                                      Count: 24\n",
      "Publisher: The Borneo Post      Category: money laundering                                   Count: 24\n",
      "Publisher: The Borneo Post      Category: drug offences                                      Count: 33\n",
      "Publisher: The Borneo Post      Category: murder and homicide                                Count: 218\n",
      "Total news count: 802\n"
     ]
    }
   ],
   "source": [
    "# Finding number of news published by predicted category for each publisher\n",
    "\n",
    "records, summary, keys = neo4j_client.execute_query(\n",
    "    \"\"\"\n",
    "        MATCH (n:News)-[:IS_CATEGORY]->(c:Category)\n",
    "        MATCH (n)-[:PUBLISHED_BY]->(p:Publisher)\n",
    "        RETURN p.publisher_name AS publisher, \n",
    "            c.category_name AS category, \n",
    "            COUNT(n) AS news_count\n",
    "        ORDER BY publisher, news_count\n",
    "    \"\"\",\n",
    "    database = '_neo4j',\n",
    ")\n",
    "\n",
    "total = 0\n",
    "\n",
    "print(f'Number of news published by Category (Fetched in {summary.result_available_after} ms)')\n",
    "for record in records:\n",
    "    print(f\"Publisher: {record['publisher']:20s} Category: {record['category'] if record['category'] else 'Not Applicable':50s} Count: {record['news_count']}\")\n",
    "    total += record['news_count']\n",
    "    \n",
    "print(f\"Total news count: {total}\")"
   ]
  },
  {
   "cell_type": "code",
   "execution_count": 16,
   "id": "9dc984d6-73cf-463e-8208-5461fbbce13c",
   "metadata": {},
   "outputs": [
    {
     "name": "stderr",
     "output_type": "stream",
     "text": [
      "[sudo] password for student: "
     ]
    }
   ],
   "source": [
    "redis_client.stop_service()\n",
    "spark.stop()"
   ]
  }
 ],
 "metadata": {
  "kernelspec": {
   "display_name": "de-venv",
   "language": "python",
   "name": "de-venv"
  },
  "language_info": {
   "codemirror_mode": {
    "name": "ipython",
    "version": 3
   },
   "file_extension": ".py",
   "mimetype": "text/x-python",
   "name": "python",
   "nbconvert_exporter": "python",
   "pygments_lexer": "ipython3",
   "version": "3.10.12"
  }
 },
 "nbformat": 4,
 "nbformat_minor": 5
}
